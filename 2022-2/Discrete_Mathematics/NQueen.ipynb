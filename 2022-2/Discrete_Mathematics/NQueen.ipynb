{
 "cells": [
  {
   "cell_type": "markdown",
   "id": "dd82759d",
   "metadata": {},
   "source": [
    "## N-Queen Problem\n",
    "\n",
    "Make a python program that solve N-Queen problem according to the following inputs and output.\n",
    "\n",
    "Input: Enter # of Queen: n\n",
    "\n",
    "Output 1: Total possible arrangements: 2 (when n == 4)\n",
    "\n",
    "Output 2: The first few arrangenets are:\n",
    "\n",
    "                        0 0 1 0\n",
    "                        1 0 0 0\n",
    "                        0 0 0 1\n",
    "                        0 1 0 0"
   ]
  },
  {
   "cell_type": "code",
   "execution_count": 94,
   "id": "afa17141",
   "metadata": {},
   "outputs": [],
   "source": [
    "Size = int(input())\n",
    "with open (\"Output2.txt\", 'a') as f:\n",
    "    f.write(\"Matrix Size: {} by {}\\n\".format(Size, Size))"
   ]
  },
  {
   "cell_type": "code",
   "execution_count": 95,
   "id": "608d66a1",
   "metadata": {},
   "outputs": [],
   "source": [
    "res = 0"
   ]
  },
  {
   "cell_type": "code",
   "execution_count": 96,
   "id": "6ffe3561",
   "metadata": {},
   "outputs": [],
   "source": [
    "row = [0] * Size"
   ]
  },
  {
   "cell_type": "code",
   "execution_count": 97,
   "id": "a94083e0",
   "metadata": {},
   "outputs": [],
   "source": [
    "import numpy as np"
   ]
  },
  {
   "cell_type": "code",
   "execution_count": 98,
   "id": "9fbb1676",
   "metadata": {},
   "outputs": [],
   "source": [
    "import pandas as pd"
   ]
  },
  {
   "cell_type": "code",
   "execution_count": 99,
   "id": "1551a5be",
   "metadata": {},
   "outputs": [],
   "source": [
    "from numpy import char\n",
    "\n",
    "\n",
    "def is_promising(x):\n",
    "    for i in range(x):\n",
    "        if row[x] == row[i] or abs(row[x] - row[i]) == abs(x-i):\n",
    "            return False\n",
    "        \n",
    "\n",
    "\n",
    "    return True"
   ]
  },
  {
   "cell_type": "code",
   "execution_count": 100,
   "id": "a3a4dde8",
   "metadata": {},
   "outputs": [],
   "source": [
    "def Result(x):\n",
    "\n",
    "    Matrix = [[\"X\"]*x for _ in range(x)]\n",
    "    Matrix = pd.DataFrame(Matrix)\n",
    "    Matrix = np.array(Matrix.values)\n",
    "\n",
    "    for i in range(x):\n",
    "        for j in range(x):\n",
    "            if i == row[j]:\n",
    "                Matrix[i][j] = 'O'\n",
    "    print(row)\n",
    "    print(Matrix)\n",
    "    print(\"\\n\")\n",
    "    # Write Matrix to Output file\n",
    "    with open(\"Output2.txt\", 'a') as f:\n",
    "        for i in range(x):\n",
    "            for j in range(x):\n",
    "                f.write(\"{} \".format(Matrix[i][j]))\n",
    "            f.write(\"\\n\")\n",
    "        f.write(\"\\n\")\n",
    "    \n",
    "    \n",
    "    "
   ]
  },
  {
   "cell_type": "code",
   "execution_count": 101,
   "id": "ef6da8f2",
   "metadata": {},
   "outputs": [],
   "source": [
    "def N_queens(x):\n",
    "    global res\n",
    "    if x == Size:\n",
    "        Result(x)\n",
    "        res += 1\n",
    "\n",
    "    else:\n",
    "        for i in range(Size):\n",
    "            row[x] = i\n",
    "            if is_promising(x):\n",
    "                N_queens(x+1)"
   ]
  },
  {
   "cell_type": "code",
   "execution_count": 102,
   "id": "985ac29c",
   "metadata": {},
   "outputs": [
    {
     "name": "stdout",
     "output_type": "stream",
     "text": [
      "[0, 2, 4, 1, 3]\n",
      "[['O' 'X' 'X' 'X' 'X']\n",
      " ['X' 'X' 'X' 'O' 'X']\n",
      " ['X' 'O' 'X' 'X' 'X']\n",
      " ['X' 'X' 'X' 'X' 'O']\n",
      " ['X' 'X' 'O' 'X' 'X']]\n",
      "\n",
      "\n",
      "[0, 3, 1, 4, 2]\n",
      "[['O' 'X' 'X' 'X' 'X']\n",
      " ['X' 'X' 'O' 'X' 'X']\n",
      " ['X' 'X' 'X' 'X' 'O']\n",
      " ['X' 'O' 'X' 'X' 'X']\n",
      " ['X' 'X' 'X' 'O' 'X']]\n",
      "\n",
      "\n",
      "[1, 3, 0, 2, 4]\n",
      "[['X' 'X' 'O' 'X' 'X']\n",
      " ['O' 'X' 'X' 'X' 'X']\n",
      " ['X' 'X' 'X' 'O' 'X']\n",
      " ['X' 'O' 'X' 'X' 'X']\n",
      " ['X' 'X' 'X' 'X' 'O']]\n",
      "\n",
      "\n",
      "[1, 4, 2, 0, 3]\n",
      "[['X' 'X' 'X' 'O' 'X']\n",
      " ['O' 'X' 'X' 'X' 'X']\n",
      " ['X' 'X' 'O' 'X' 'X']\n",
      " ['X' 'X' 'X' 'X' 'O']\n",
      " ['X' 'O' 'X' 'X' 'X']]\n",
      "\n",
      "\n",
      "[2, 0, 3, 1, 4]\n",
      "[['X' 'O' 'X' 'X' 'X']\n",
      " ['X' 'X' 'X' 'O' 'X']\n",
      " ['O' 'X' 'X' 'X' 'X']\n",
      " ['X' 'X' 'O' 'X' 'X']\n",
      " ['X' 'X' 'X' 'X' 'O']]\n",
      "\n",
      "\n",
      "[2, 4, 1, 3, 0]\n",
      "[['X' 'X' 'X' 'X' 'O']\n",
      " ['X' 'X' 'O' 'X' 'X']\n",
      " ['O' 'X' 'X' 'X' 'X']\n",
      " ['X' 'X' 'X' 'O' 'X']\n",
      " ['X' 'O' 'X' 'X' 'X']]\n",
      "\n",
      "\n",
      "[3, 0, 2, 4, 1]\n",
      "[['X' 'O' 'X' 'X' 'X']\n",
      " ['X' 'X' 'X' 'X' 'O']\n",
      " ['X' 'X' 'O' 'X' 'X']\n",
      " ['O' 'X' 'X' 'X' 'X']\n",
      " ['X' 'X' 'X' 'O' 'X']]\n",
      "\n",
      "\n",
      "[3, 1, 4, 2, 0]\n",
      "[['X' 'X' 'X' 'X' 'O']\n",
      " ['X' 'O' 'X' 'X' 'X']\n",
      " ['X' 'X' 'X' 'O' 'X']\n",
      " ['O' 'X' 'X' 'X' 'X']\n",
      " ['X' 'X' 'O' 'X' 'X']]\n",
      "\n",
      "\n",
      "[4, 1, 3, 0, 2]\n",
      "[['X' 'X' 'X' 'O' 'X']\n",
      " ['X' 'O' 'X' 'X' 'X']\n",
      " ['X' 'X' 'X' 'X' 'O']\n",
      " ['X' 'X' 'O' 'X' 'X']\n",
      " ['O' 'X' 'X' 'X' 'X']]\n",
      "\n",
      "\n",
      "[4, 2, 0, 3, 1]\n",
      "[['X' 'X' 'O' 'X' 'X']\n",
      " ['X' 'X' 'X' 'X' 'O']\n",
      " ['X' 'O' 'X' 'X' 'X']\n",
      " ['X' 'X' 'X' 'O' 'X']\n",
      " ['O' 'X' 'X' 'X' 'X']]\n",
      "\n",
      "\n"
     ]
    }
   ],
   "source": [
    "N_queens(0)"
   ]
  },
  {
   "cell_type": "code",
   "execution_count": 103,
   "id": "e92033d3",
   "metadata": {},
   "outputs": [
    {
     "name": "stdout",
     "output_type": "stream",
     "text": [
      "10\n"
     ]
    }
   ],
   "source": [
    "# Write # of possible arrangements\n",
    "print(res)\n",
    "with open(\"Output2.txt\", 'a') as f:\n",
    "    f.write(\"Total possible arrangement: {}\\n\".format(res))\n",
    "    f.write(\"#############################\\n\")"
   ]
  },
  {
   "cell_type": "code",
   "execution_count": null,
   "id": "a6fbe4d8",
   "metadata": {},
   "outputs": [],
   "source": []
  }
 ],
 "metadata": {
  "kernelspec": {
   "display_name": "Python 3 (ipykernel)",
   "language": "python",
   "name": "python3"
  },
  "language_info": {
   "codemirror_mode": {
    "name": "ipython",
    "version": 3
   },
   "file_extension": ".py",
   "mimetype": "text/x-python",
   "name": "python",
   "nbconvert_exporter": "python",
   "pygments_lexer": "ipython3",
   "version": "3.9.1 (default, Sep 18 2022, 01:31:51) \n[Clang 14.0.0 (clang-1400.0.29.102)]"
  },
  "vscode": {
   "interpreter": {
    "hash": "921c31f34d6b299876c2300015b1637dd26d40f5dc4987665871b1f9f112812f"
   }
  }
 },
 "nbformat": 4,
 "nbformat_minor": 5
}
